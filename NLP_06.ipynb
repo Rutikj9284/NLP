{
  "nbformat": 4,
  "nbformat_minor": 0,
  "metadata": {
    "colab": {
      "provenance": []
    },
    "kernelspec": {
      "name": "python3",
      "display_name": "Python 3"
    },
    "language_info": {
      "name": "python"
    }
  },
  "cells": [
    {
      "cell_type": "code",
      "execution_count": 1,
      "metadata": {
        "id": "svMgP-yMt___"
      },
      "outputs": [],
      "source": [
        "import nltk\n",
        "from nltk.tokenize import word_tokenize\n",
        "from nltk import pos_tag\n",
        "from nltk.corpus import stopwords\n",
        "import re"
      ]
    },
    {
      "cell_type": "code",
      "source": [
        "nltk.download('punkt')\n",
        "nltk.download('averaged_perceptron_tagger')\n",
        "nltk.download('words')"
      ],
      "metadata": {
        "colab": {
          "base_uri": "https://localhost:8080/"
        },
        "id": "K2U2mjVMuQxm",
        "outputId": "2e305820-f9a8-49bb-adda-08b17e009469"
      },
      "execution_count": 2,
      "outputs": [
        {
          "output_type": "stream",
          "name": "stderr",
          "text": [
            "[nltk_data] Downloading package punkt to /root/nltk_data...\n",
            "[nltk_data]   Unzipping tokenizers/punkt.zip.\n",
            "[nltk_data] Downloading package averaged_perceptron_tagger to\n",
            "[nltk_data]     /root/nltk_data...\n",
            "[nltk_data]   Unzipping taggers/averaged_perceptron_tagger.zip.\n",
            "[nltk_data] Downloading package words to /root/nltk_data...\n",
            "[nltk_data]   Unzipping corpora/words.zip.\n"
          ]
        },
        {
          "output_type": "execute_result",
          "data": {
            "text/plain": [
              "True"
            ]
          },
          "metadata": {},
          "execution_count": 2
        }
      ]
    },
    {
      "cell_type": "code",
      "source": [
        "def analyze_text(text):\n",
        "    # Tokenize the text\n",
        "    tokens = word_tokenize(text)\n",
        "\n",
        "    # Generate POS tags\n",
        "    tagged_tokens = pos_tag(tokens)\n",
        "\n",
        "    # Extract nouns\n",
        "    nouns = [word for word, tag in tagged_tokens if tag in ['NN', 'NNS', 'NNP', 'NNPS']]\n",
        "\n",
        "    # Extract numbers\n",
        "    numbers = [word for word in tokens if re.match(r'\\d+', word)]\n",
        "\n",
        "    # Count POS tags\n",
        "    pos_tag_count = {}\n",
        "    for word, tag in tagged_tokens:\n",
        "        if tag in pos_tag_count:\n",
        "            pos_tag_count[tag] += 1\n",
        "        else:\n",
        "            pos_tag_count[tag] = 1\n",
        "\n",
        "    return tagged_tokens, nouns, numbers, pos_tag_count"
      ],
      "metadata": {
        "id": "Pne876ouuT3n"
      },
      "execution_count": 3,
      "outputs": []
    },
    {
      "cell_type": "code",
      "source": [
        "text = \"\"\"\n",
        "Bringing two people into dialogue on stage: one speaking from a faith perspective and the other from a scientific one. All this under the light of an “integral ecology”. This was the challenge taken up by a Jesuit academic institution in Hungary.\n",
        "The Faludi Ferenc Jesuit Academy launched in 2022 a new dialogue between faith and science through a series of eight “mirror” conferences held between January and June. The novelty of this dialogue is that it brought to the same table representatives of religious institutions and men and women with a scientific background to debate on selected topics relevant both for the protection of creation and sustainable development. The following topics were selected for social reflection and debate: partnership and dialogue, green economy, sustainable lifestyle, climate change, poverty, sustainable communities, environmental change, social justice. The original approach of these series of mirror conferences, entitled “Forum for an Integral Ecology,” was embedded in the format of all the conferences, so that each selected topic was addressed by two specialists, one presenting the religious angle and the other the scientific point of view. Interactive debates open to the public, people attending in situ as well as those participating on line, followed the keynote presentations. Through this dynamic, we tried to generate a social reflection on the created world and sustainable development.\n",
        "\n",
        "The result of this first round of debates was the book entitled Integral Ecology. Dialogue between faith and science in the spirit of Laudato si’, published by the Jesuit Printing House in Budapest. It includes 16 reflections on the eight major topics selected for the forum. Each chapter of the publication offers many ways of finding authentic individual and collective answers to the multiple socio-economic and ecological crises, in the specific cultural and territorial context of Hungary.\n",
        "\n",
        "2024-08-19_annuario24-069_books\n",
        "Among the results of this dialogue, we outline the following:\n",
        "\n",
        "The need to supplement the three classical dimensions of sustainable development (the social, economic, and environmental dimensions) with a spiritual dimension, adding specific Christian values to each sustainable development goal, as defined in the 2030 Agenda of the United Nations. Sustainable Development Goals without clearly assumed or agreed upon values cannot mobilize individuals or lead to collective actions. This “supplement” will help provide clearly defined orientation for institutions. Faith provides, in these circumstances, an immanent motivation for the authentic enforcement of the protection of creation by giving us an internal moral guidance. This spiritual dimension of sustainability may lead to the ecological conversion stressed in the papal encyclical Laudato si’.\n",
        "\n",
        "Ignatian spirituality could play a special role in giving shape to the spiritual dimension of sustainability, specifically through the Spiritual Exercises. The Ignatian method and orientations may help to distinguish between ecological sins and ecological virtues. The strengthening of the relationship between God, humanity, and nature may help in a meaningful ecological conversion process.\n",
        "\n",
        "Our institutions, both ecclesiastical and secular, must adopt action plans and good practices in their everyday life for the spreading of behaviour oriented towards a sustainable economy (mobility, green consumption and investment policies, energy efficiency of buildings, carbon foot monitoring, etc.).\n",
        "\n",
        "Local communities, parishes for instance, must be strengthened and sustained in the objective of finding their specific collective and contextualized answers to the multiple challenges generated by the ecological crisis.\n",
        "\n",
        "2024-08-19_annuario24-069_garden\n",
        "There is a real need for the rethinking and replanning of the concept of economic growth towards a human centred and integral development that includes not only material elements but the spiritual dimension as well.\n",
        "\n",
        "We recognize that radical changes and transformations are unavoidable. At the same time, in many places and contexts, especially in marginal and peripheral areas, the only solution might be resilience and adaptation to the changed environments.\n",
        "\n",
        "We hope that our shared dialogue between religion and science on the protection of creation and sustainable development may be a reference in the future for the expanding contents of the education curricula both in schools and in higher education institutions. Our work could then influence the formation of a positive attitude and generate motivation for local responses to our complex crises. By doing this, we hope to be in line and in the spirit of the encyclical Laudato si’, and we conclude with one of the final chords of the papal document: “Let us sing as we go. May our struggles and our concern for this planet never take away the joy of our hope” (LS 244).\n",
        "\"\"\""
      ],
      "metadata": {
        "id": "_ywFU7_6umyo"
      },
      "execution_count": 4,
      "outputs": []
    },
    {
      "cell_type": "code",
      "source": [
        "# Analyze the text\n",
        "tagged_tokens, nouns, numbers, pos_tag_count = analyze_text(text)"
      ],
      "metadata": {
        "id": "OtxBdke9u1HY"
      },
      "execution_count": 5,
      "outputs": []
    },
    {
      "cell_type": "code",
      "source": [
        "# Print results\n",
        "print(\"POS Tagged Tokens:\")\n",
        "print(tagged_tokens)\n",
        "print(\"\\nNouns:\")\n",
        "print(nouns)\n",
        "print(\"\\nNumbers:\")\n",
        "print(numbers)\n",
        "print(\"\\nPOS Tag Count:\")\n",
        "print(pos_tag_count)"
      ],
      "metadata": {
        "id": "RNIYM8GKu4sg",
        "outputId": "d76fc596-479d-4b6c-bf85-bdca3d084239",
        "colab": {
          "base_uri": "https://localhost:8080/"
        }
      },
      "execution_count": 6,
      "outputs": [
        {
          "output_type": "stream",
          "name": "stdout",
          "text": [
            "POS Tagged Tokens:\n",
            "[('Bringing', 'VBG'), ('two', 'CD'), ('people', 'NNS'), ('into', 'IN'), ('dialogue', 'NN'), ('on', 'IN'), ('stage', 'NN'), (':', ':'), ('one', 'CD'), ('speaking', 'NN'), ('from', 'IN'), ('a', 'DT'), ('faith', 'JJ'), ('perspective', 'NN'), ('and', 'CC'), ('the', 'DT'), ('other', 'JJ'), ('from', 'IN'), ('a', 'DT'), ('scientific', 'JJ'), ('one', 'NN'), ('.', '.'), ('All', 'PDT'), ('this', 'DT'), ('under', 'IN'), ('the', 'DT'), ('light', 'NN'), ('of', 'IN'), ('an', 'DT'), ('“', 'JJ'), ('integral', 'JJ'), ('ecology', 'NN'), ('”', 'NN'), ('.', '.'), ('This', 'DT'), ('was', 'VBD'), ('the', 'DT'), ('challenge', 'NN'), ('taken', 'VBN'), ('up', 'RP'), ('by', 'IN'), ('a', 'DT'), ('Jesuit', 'NNP'), ('academic', 'JJ'), ('institution', 'NN'), ('in', 'IN'), ('Hungary', 'NNP'), ('.', '.'), ('The', 'DT'), ('Faludi', 'NNP'), ('Ferenc', 'NNP'), ('Jesuit', 'NNP'), ('Academy', 'NNP'), ('launched', 'VBN'), ('in', 'IN'), ('2022', 'CD'), ('a', 'DT'), ('new', 'JJ'), ('dialogue', 'NN'), ('between', 'IN'), ('faith', 'NN'), ('and', 'CC'), ('science', 'NN'), ('through', 'IN'), ('a', 'DT'), ('series', 'NN'), ('of', 'IN'), ('eight', 'CD'), ('“', 'NNS'), ('mirror', 'NN'), ('”', 'JJ'), ('conferences', 'NNS'), ('held', 'VBD'), ('between', 'IN'), ('January', 'NNP'), ('and', 'CC'), ('June', 'NNP'), ('.', '.'), ('The', 'DT'), ('novelty', 'NN'), ('of', 'IN'), ('this', 'DT'), ('dialogue', 'NN'), ('is', 'VBZ'), ('that', 'IN'), ('it', 'PRP'), ('brought', 'VBD'), ('to', 'TO'), ('the', 'DT'), ('same', 'JJ'), ('table', 'JJ'), ('representatives', 'NNS'), ('of', 'IN'), ('religious', 'JJ'), ('institutions', 'NNS'), ('and', 'CC'), ('men', 'NNS'), ('and', 'CC'), ('women', 'NNS'), ('with', 'IN'), ('a', 'DT'), ('scientific', 'JJ'), ('background', 'NN'), ('to', 'TO'), ('debate', 'VB'), ('on', 'IN'), ('selected', 'VBN'), ('topics', 'NNS'), ('relevant', 'JJ'), ('both', 'DT'), ('for', 'IN'), ('the', 'DT'), ('protection', 'NN'), ('of', 'IN'), ('creation', 'NN'), ('and', 'CC'), ('sustainable', 'JJ'), ('development', 'NN'), ('.', '.'), ('The', 'DT'), ('following', 'JJ'), ('topics', 'NNS'), ('were', 'VBD'), ('selected', 'VBN'), ('for', 'IN'), ('social', 'JJ'), ('reflection', 'NN'), ('and', 'CC'), ('debate', 'NN'), (':', ':'), ('partnership', 'NN'), ('and', 'CC'), ('dialogue', 'NN'), (',', ','), ('green', 'JJ'), ('economy', 'NN'), (',', ','), ('sustainable', 'JJ'), ('lifestyle', 'NN'), (',', ','), ('climate', 'NN'), ('change', 'NN'), (',', ','), ('poverty', 'NN'), (',', ','), ('sustainable', 'JJ'), ('communities', 'NNS'), (',', ','), ('environmental', 'JJ'), ('change', 'NN'), (',', ','), ('social', 'JJ'), ('justice', 'NN'), ('.', '.'), ('The', 'DT'), ('original', 'JJ'), ('approach', 'NN'), ('of', 'IN'), ('these', 'DT'), ('series', 'NN'), ('of', 'IN'), ('mirror', 'NN'), ('conferences', 'NNS'), (',', ','), ('entitled', 'VBD'), ('“', 'JJ'), ('Forum', 'NNP'), ('for', 'IN'), ('an', 'DT'), ('Integral', 'NNP'), ('Ecology', 'NNP'), (',', ','), ('”', 'NNP'), ('was', 'VBD'), ('embedded', 'VBN'), ('in', 'IN'), ('the', 'DT'), ('format', 'NN'), ('of', 'IN'), ('all', 'PDT'), ('the', 'DT'), ('conferences', 'NNS'), (',', ','), ('so', 'IN'), ('that', 'IN'), ('each', 'DT'), ('selected', 'VBN'), ('topic', 'NN'), ('was', 'VBD'), ('addressed', 'VBN'), ('by', 'IN'), ('two', 'CD'), ('specialists', 'NNS'), (',', ','), ('one', 'CD'), ('presenting', 'VBG'), ('the', 'DT'), ('religious', 'JJ'), ('angle', 'NN'), ('and', 'CC'), ('the', 'DT'), ('other', 'JJ'), ('the', 'DT'), ('scientific', 'JJ'), ('point', 'NN'), ('of', 'IN'), ('view', 'NN'), ('.', '.'), ('Interactive', 'JJ'), ('debates', 'NNS'), ('open', 'VBP'), ('to', 'TO'), ('the', 'DT'), ('public', 'NN'), (',', ','), ('people', 'NNS'), ('attending', 'VBG'), ('in', 'IN'), ('situ', 'NN'), ('as', 'RB'), ('well', 'RB'), ('as', 'IN'), ('those', 'DT'), ('participating', 'VBG'), ('on', 'IN'), ('line', 'NN'), (',', ','), ('followed', 'VBD'), ('the', 'DT'), ('keynote', 'NN'), ('presentations', 'NNS'), ('.', '.'), ('Through', 'IN'), ('this', 'DT'), ('dynamic', 'JJ'), (',', ','), ('we', 'PRP'), ('tried', 'VBD'), ('to', 'TO'), ('generate', 'VB'), ('a', 'DT'), ('social', 'JJ'), ('reflection', 'NN'), ('on', 'IN'), ('the', 'DT'), ('created', 'VBN'), ('world', 'NN'), ('and', 'CC'), ('sustainable', 'JJ'), ('development', 'NN'), ('.', '.'), ('The', 'DT'), ('result', 'NN'), ('of', 'IN'), ('this', 'DT'), ('first', 'JJ'), ('round', 'NN'), ('of', 'IN'), ('debates', 'NNS'), ('was', 'VBD'), ('the', 'DT'), ('book', 'NN'), ('entitled', 'VBD'), ('Integral', 'NNP'), ('Ecology', 'NNP'), ('.', '.'), ('Dialogue', 'NNP'), ('between', 'IN'), ('faith', 'NN'), ('and', 'CC'), ('science', 'NN'), ('in', 'IN'), ('the', 'DT'), ('spirit', 'NN'), ('of', 'IN'), ('Laudato', 'NNP'), ('si', 'NN'), ('’', 'NNP'), (',', ','), ('published', 'VBN'), ('by', 'IN'), ('the', 'DT'), ('Jesuit', 'NNP'), ('Printing', 'NNP'), ('House', 'NNP'), ('in', 'IN'), ('Budapest', 'NNP'), ('.', '.'), ('It', 'PRP'), ('includes', 'VBZ'), ('16', 'CD'), ('reflections', 'NNS'), ('on', 'IN'), ('the', 'DT'), ('eight', 'CD'), ('major', 'JJ'), ('topics', 'NNS'), ('selected', 'VBN'), ('for', 'IN'), ('the', 'DT'), ('forum', 'NN'), ('.', '.'), ('Each', 'DT'), ('chapter', 'NN'), ('of', 'IN'), ('the', 'DT'), ('publication', 'NN'), ('offers', 'VBZ'), ('many', 'JJ'), ('ways', 'NNS'), ('of', 'IN'), ('finding', 'VBG'), ('authentic', 'JJ'), ('individual', 'NN'), ('and', 'CC'), ('collective', 'JJ'), ('answers', 'NNS'), ('to', 'TO'), ('the', 'DT'), ('multiple', 'JJ'), ('socio-economic', 'JJ'), ('and', 'CC'), ('ecological', 'JJ'), ('crises', 'NNS'), (',', ','), ('in', 'IN'), ('the', 'DT'), ('specific', 'JJ'), ('cultural', 'JJ'), ('and', 'CC'), ('territorial', 'JJ'), ('context', 'NN'), ('of', 'IN'), ('Hungary', 'NNP'), ('.', '.'), ('2024-08-19_annuario24-069_books', 'JJ'), ('Among', 'IN'), ('the', 'DT'), ('results', 'NNS'), ('of', 'IN'), ('this', 'DT'), ('dialogue', 'NN'), (',', ','), ('we', 'PRP'), ('outline', 'VBP'), ('the', 'DT'), ('following', 'NN'), (':', ':'), ('The', 'DT'), ('need', 'NN'), ('to', 'TO'), ('supplement', 'VB'), ('the', 'DT'), ('three', 'CD'), ('classical', 'JJ'), ('dimensions', 'NNS'), ('of', 'IN'), ('sustainable', 'JJ'), ('development', 'NN'), ('(', '('), ('the', 'DT'), ('social', 'JJ'), (',', ','), ('economic', 'JJ'), (',', ','), ('and', 'CC'), ('environmental', 'JJ'), ('dimensions', 'NNS'), (')', ')'), ('with', 'IN'), ('a', 'DT'), ('spiritual', 'JJ'), ('dimension', 'NN'), (',', ','), ('adding', 'VBG'), ('specific', 'JJ'), ('Christian', 'JJ'), ('values', 'NNS'), ('to', 'TO'), ('each', 'DT'), ('sustainable', 'JJ'), ('development', 'NN'), ('goal', 'NN'), (',', ','), ('as', 'IN'), ('defined', 'VBN'), ('in', 'IN'), ('the', 'DT'), ('2030', 'CD'), ('Agenda', 'NNP'), ('of', 'IN'), ('the', 'DT'), ('United', 'NNP'), ('Nations', 'NNPS'), ('.', '.'), ('Sustainable', 'JJ'), ('Development', 'NNP'), ('Goals', 'NNP'), ('without', 'IN'), ('clearly', 'RB'), ('assumed', 'VBN'), ('or', 'CC'), ('agreed', 'VBN'), ('upon', 'IN'), ('values', 'NNS'), ('can', 'MD'), ('not', 'RB'), ('mobilize', 'VB'), ('individuals', 'NNS'), ('or', 'CC'), ('lead', 'NN'), ('to', 'TO'), ('collective', 'JJ'), ('actions', 'NNS'), ('.', '.'), ('This', 'DT'), ('“', 'JJ'), ('supplement', 'NN'), ('”', 'NN'), ('will', 'MD'), ('help', 'VB'), ('provide', 'VB'), ('clearly', 'RB'), ('defined', 'JJ'), ('orientation', 'NN'), ('for', 'IN'), ('institutions', 'NNS'), ('.', '.'), ('Faith', 'NNP'), ('provides', 'VBZ'), (',', ','), ('in', 'IN'), ('these', 'DT'), ('circumstances', 'NNS'), (',', ','), ('an', 'DT'), ('immanent', 'JJ'), ('motivation', 'NN'), ('for', 'IN'), ('the', 'DT'), ('authentic', 'JJ'), ('enforcement', 'NN'), ('of', 'IN'), ('the', 'DT'), ('protection', 'NN'), ('of', 'IN'), ('creation', 'NN'), ('by', 'IN'), ('giving', 'VBG'), ('us', 'PRP'), ('an', 'DT'), ('internal', 'JJ'), ('moral', 'JJ'), ('guidance', 'NN'), ('.', '.'), ('This', 'DT'), ('spiritual', 'JJ'), ('dimension', 'NN'), ('of', 'IN'), ('sustainability', 'NN'), ('may', 'MD'), ('lead', 'VB'), ('to', 'TO'), ('the', 'DT'), ('ecological', 'JJ'), ('conversion', 'NN'), ('stressed', 'VBD'), ('in', 'IN'), ('the', 'DT'), ('papal', 'JJ'), ('encyclical', 'JJ'), ('Laudato', 'NNP'), ('si', 'NN'), ('’', 'NNP'), ('.', '.'), ('Ignatian', 'JJ'), ('spirituality', 'NN'), ('could', 'MD'), ('play', 'VB'), ('a', 'DT'), ('special', 'JJ'), ('role', 'NN'), ('in', 'IN'), ('giving', 'VBG'), ('shape', 'NN'), ('to', 'TO'), ('the', 'DT'), ('spiritual', 'JJ'), ('dimension', 'NN'), ('of', 'IN'), ('sustainability', 'NN'), (',', ','), ('specifically', 'RB'), ('through', 'IN'), ('the', 'DT'), ('Spiritual', 'NNP'), ('Exercises', 'NNP'), ('.', '.'), ('The', 'DT'), ('Ignatian', 'JJ'), ('method', 'NN'), ('and', 'CC'), ('orientations', 'NNS'), ('may', 'MD'), ('help', 'VB'), ('to', 'TO'), ('distinguish', 'VB'), ('between', 'IN'), ('ecological', 'JJ'), ('sins', 'NNS'), ('and', 'CC'), ('ecological', 'JJ'), ('virtues', 'NNS'), ('.', '.'), ('The', 'DT'), ('strengthening', 'NN'), ('of', 'IN'), ('the', 'DT'), ('relationship', 'NN'), ('between', 'IN'), ('God', 'NNP'), (',', ','), ('humanity', 'NN'), (',', ','), ('and', 'CC'), ('nature', 'NN'), ('may', 'MD'), ('help', 'VB'), ('in', 'IN'), ('a', 'DT'), ('meaningful', 'JJ'), ('ecological', 'JJ'), ('conversion', 'NN'), ('process', 'NN'), ('.', '.'), ('Our', 'PRP$'), ('institutions', 'NNS'), (',', ','), ('both', 'DT'), ('ecclesiastical', 'JJ'), ('and', 'CC'), ('secular', 'JJ'), (',', ','), ('must', 'MD'), ('adopt', 'VB'), ('action', 'NN'), ('plans', 'NNS'), ('and', 'CC'), ('good', 'JJ'), ('practices', 'NNS'), ('in', 'IN'), ('their', 'PRP$'), ('everyday', 'JJ'), ('life', 'NN'), ('for', 'IN'), ('the', 'DT'), ('spreading', 'NN'), ('of', 'IN'), ('behaviour', 'NN'), ('oriented', 'VBN'), ('towards', 'IN'), ('a', 'DT'), ('sustainable', 'JJ'), ('economy', 'NN'), ('(', '('), ('mobility', 'NN'), (',', ','), ('green', 'JJ'), ('consumption', 'NN'), ('and', 'CC'), ('investment', 'NN'), ('policies', 'NNS'), (',', ','), ('energy', 'NN'), ('efficiency', 'NN'), ('of', 'IN'), ('buildings', 'NNS'), (',', ','), ('carbon', 'NN'), ('foot', 'NN'), ('monitoring', 'NN'), (',', ','), ('etc.', 'NN'), (')', ')'), ('.', '.'), ('Local', 'JJ'), ('communities', 'NNS'), (',', ','), ('parishes', 'NNS'), ('for', 'IN'), ('instance', 'NN'), (',', ','), ('must', 'MD'), ('be', 'VB'), ('strengthened', 'VBN'), ('and', 'CC'), ('sustained', 'VBN'), ('in', 'IN'), ('the', 'DT'), ('objective', 'NN'), ('of', 'IN'), ('finding', 'VBG'), ('their', 'PRP$'), ('specific', 'JJ'), ('collective', 'NN'), ('and', 'CC'), ('contextualized', 'JJ'), ('answers', 'NNS'), ('to', 'TO'), ('the', 'DT'), ('multiple', 'JJ'), ('challenges', 'NNS'), ('generated', 'VBN'), ('by', 'IN'), ('the', 'DT'), ('ecological', 'JJ'), ('crisis', 'NN'), ('.', '.'), ('2024-08-19_annuario24-069_garden', 'JJ'), ('There', 'EX'), ('is', 'VBZ'), ('a', 'DT'), ('real', 'JJ'), ('need', 'NN'), ('for', 'IN'), ('the', 'DT'), ('rethinking', 'NN'), ('and', 'CC'), ('replanning', 'NN'), ('of', 'IN'), ('the', 'DT'), ('concept', 'NN'), ('of', 'IN'), ('economic', 'JJ'), ('growth', 'NN'), ('towards', 'IN'), ('a', 'DT'), ('human', 'JJ'), ('centred', 'NN'), ('and', 'CC'), ('integral', 'JJ'), ('development', 'NN'), ('that', 'WDT'), ('includes', 'VBZ'), ('not', 'RB'), ('only', 'RB'), ('material', 'JJ'), ('elements', 'NNS'), ('but', 'CC'), ('the', 'DT'), ('spiritual', 'JJ'), ('dimension', 'NN'), ('as', 'RB'), ('well', 'RB'), ('.', '.'), ('We', 'PRP'), ('recognize', 'VBP'), ('that', 'DT'), ('radical', 'JJ'), ('changes', 'NNS'), ('and', 'CC'), ('transformations', 'NNS'), ('are', 'VBP'), ('unavoidable', 'JJ'), ('.', '.'), ('At', 'IN'), ('the', 'DT'), ('same', 'JJ'), ('time', 'NN'), (',', ','), ('in', 'IN'), ('many', 'JJ'), ('places', 'NNS'), ('and', 'CC'), ('contexts', 'NN'), (',', ','), ('especially', 'RB'), ('in', 'IN'), ('marginal', 'JJ'), ('and', 'CC'), ('peripheral', 'JJ'), ('areas', 'NNS'), (',', ','), ('the', 'DT'), ('only', 'JJ'), ('solution', 'NN'), ('might', 'MD'), ('be', 'VB'), ('resilience', 'NN'), ('and', 'CC'), ('adaptation', 'NN'), ('to', 'TO'), ('the', 'DT'), ('changed', 'VBN'), ('environments', 'NNS'), ('.', '.'), ('We', 'PRP'), ('hope', 'VBP'), ('that', 'IN'), ('our', 'PRP$'), ('shared', 'VBN'), ('dialogue', 'NN'), ('between', 'IN'), ('religion', 'NN'), ('and', 'CC'), ('science', 'NN'), ('on', 'IN'), ('the', 'DT'), ('protection', 'NN'), ('of', 'IN'), ('creation', 'NN'), ('and', 'CC'), ('sustainable', 'JJ'), ('development', 'NN'), ('may', 'MD'), ('be', 'VB'), ('a', 'DT'), ('reference', 'NN'), ('in', 'IN'), ('the', 'DT'), ('future', 'NN'), ('for', 'IN'), ('the', 'DT'), ('expanding', 'VBG'), ('contents', 'NNS'), ('of', 'IN'), ('the', 'DT'), ('education', 'NN'), ('curricula', 'NN'), ('both', 'DT'), ('in', 'IN'), ('schools', 'NNS'), ('and', 'CC'), ('in', 'IN'), ('higher', 'JJR'), ('education', 'NN'), ('institutions', 'NNS'), ('.', '.'), ('Our', 'PRP$'), ('work', 'NN'), ('could', 'MD'), ('then', 'RB'), ('influence', 'VB'), ('the', 'DT'), ('formation', 'NN'), ('of', 'IN'), ('a', 'DT'), ('positive', 'JJ'), ('attitude', 'NN'), ('and', 'CC'), ('generate', 'NN'), ('motivation', 'NN'), ('for', 'IN'), ('local', 'JJ'), ('responses', 'NNS'), ('to', 'TO'), ('our', 'PRP$'), ('complex', 'JJ'), ('crises', 'NNS'), ('.', '.'), ('By', 'IN'), ('doing', 'VBG'), ('this', 'DT'), (',', ','), ('we', 'PRP'), ('hope', 'VBP'), ('to', 'TO'), ('be', 'VB'), ('in', 'IN'), ('line', 'NN'), ('and', 'CC'), ('in', 'IN'), ('the', 'DT'), ('spirit', 'NN'), ('of', 'IN'), ('the', 'DT'), ('encyclical', 'JJ'), ('Laudato', 'NNP'), ('si', 'NN'), ('’', 'NN'), (',', ','), ('and', 'CC'), ('we', 'PRP'), ('conclude', 'VBP'), ('with', 'IN'), ('one', 'CD'), ('of', 'IN'), ('the', 'DT'), ('final', 'JJ'), ('chords', 'NNS'), ('of', 'IN'), ('the', 'DT'), ('papal', 'JJ'), ('document', 'NN'), (':', ':'), ('“', 'JJ'), ('Let', 'VB'), ('us', 'PRP'), ('sing', 'VBG'), ('as', 'IN'), ('we', 'PRP'), ('go', 'VBP'), ('.', '.'), ('May', 'NNP'), ('our', 'PRP$'), ('struggles', 'NNS'), ('and', 'CC'), ('our', 'PRP$'), ('concern', 'NN'), ('for', 'IN'), ('this', 'DT'), ('planet', 'NN'), ('never', 'RB'), ('take', 'VB'), ('away', 'RP'), ('the', 'DT'), ('joy', 'NN'), ('of', 'IN'), ('our', 'PRP$'), ('hope', 'NN'), ('”', 'NNP'), ('(', '('), ('LS', 'NNP'), ('244', 'CD'), (')', ')'), ('.', '.')]\n",
            "\n",
            "Nouns:\n",
            "['people', 'dialogue', 'stage', 'speaking', 'perspective', 'one', 'light', 'ecology', '”', 'challenge', 'Jesuit', 'institution', 'Hungary', 'Faludi', 'Ferenc', 'Jesuit', 'Academy', 'dialogue', 'faith', 'science', 'series', '“', 'mirror', 'conferences', 'January', 'June', 'novelty', 'dialogue', 'representatives', 'institutions', 'men', 'women', 'background', 'topics', 'protection', 'creation', 'development', 'topics', 'reflection', 'debate', 'partnership', 'dialogue', 'economy', 'lifestyle', 'climate', 'change', 'poverty', 'communities', 'change', 'justice', 'approach', 'series', 'mirror', 'conferences', 'Forum', 'Integral', 'Ecology', '”', 'format', 'conferences', 'topic', 'specialists', 'angle', 'point', 'view', 'debates', 'public', 'people', 'situ', 'line', 'keynote', 'presentations', 'reflection', 'world', 'development', 'result', 'round', 'debates', 'book', 'Integral', 'Ecology', 'Dialogue', 'faith', 'science', 'spirit', 'Laudato', 'si', '’', 'Jesuit', 'Printing', 'House', 'Budapest', 'reflections', 'topics', 'forum', 'chapter', 'publication', 'ways', 'individual', 'answers', 'crises', 'context', 'Hungary', 'results', 'dialogue', 'following', 'need', 'dimensions', 'development', 'dimensions', 'dimension', 'values', 'development', 'goal', 'Agenda', 'United', 'Nations', 'Development', 'Goals', 'values', 'individuals', 'lead', 'actions', 'supplement', '”', 'orientation', 'institutions', 'Faith', 'circumstances', 'motivation', 'enforcement', 'protection', 'creation', 'guidance', 'dimension', 'sustainability', 'conversion', 'Laudato', 'si', '’', 'spirituality', 'role', 'shape', 'dimension', 'sustainability', 'Spiritual', 'Exercises', 'method', 'orientations', 'sins', 'virtues', 'strengthening', 'relationship', 'God', 'humanity', 'nature', 'conversion', 'process', 'institutions', 'action', 'plans', 'practices', 'life', 'spreading', 'behaviour', 'economy', 'mobility', 'consumption', 'investment', 'policies', 'energy', 'efficiency', 'buildings', 'carbon', 'foot', 'monitoring', 'etc.', 'communities', 'parishes', 'instance', 'objective', 'collective', 'answers', 'challenges', 'crisis', 'need', 'rethinking', 'replanning', 'concept', 'growth', 'centred', 'development', 'elements', 'dimension', 'changes', 'transformations', 'time', 'places', 'contexts', 'areas', 'solution', 'resilience', 'adaptation', 'environments', 'dialogue', 'religion', 'science', 'protection', 'creation', 'development', 'reference', 'future', 'contents', 'education', 'curricula', 'schools', 'education', 'institutions', 'work', 'formation', 'attitude', 'generate', 'motivation', 'responses', 'crises', 'line', 'spirit', 'Laudato', 'si', '’', 'chords', 'document', 'May', 'struggles', 'concern', 'planet', 'joy', 'hope', '”', 'LS']\n",
            "\n",
            "Numbers:\n",
            "['2022', '16', '2024-08-19_annuario24-069_books', '2030', '2024-08-19_annuario24-069_garden', '244']\n",
            "\n",
            "POS Tag Count:\n",
            "{'VBG': 12, 'CD': 12, 'NNS': 56, 'IN': 109, 'NN': 147, ':': 4, 'DT': 101, 'JJ': 104, 'CC': 39, '.': 30, 'PDT': 2, 'VBD': 12, 'VBN': 19, 'RP': 2, 'NNP': 36, 'VBZ': 6, 'PRP': 11, 'TO': 15, 'VB': 19, ',': 39, 'VBP': 8, 'RB': 13, '(': 3, ')': 3, 'NNPS': 1, 'MD': 11, 'PRP$': 9, 'EX': 1, 'WDT': 1, 'JJR': 1}\n"
          ]
        }
      ]
    }
  ]
}