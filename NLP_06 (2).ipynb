{
  "nbformat": 4,
  "nbformat_minor": 0,
  "metadata": {
    "colab": {
      "provenance": []
    },
    "kernelspec": {
      "name": "python3",
      "display_name": "Python 3"
    },
    "language_info": {
      "name": "python"
    }
  },
  "cells": [
    {
      "cell_type": "code",
      "execution_count": 11,
      "metadata": {
        "id": "svMgP-yMt___"
      },
      "outputs": [],
      "source": [
        "import nltk\n",
        "from nltk.tokenize import word_tokenize\n",
        "from nltk import pos_tag\n",
        "from nltk.corpus import stopwords\n",
        "import re"
      ]
    },
    {
      "cell_type": "code",
      "source": [
        "nltk.download('punkt')\n",
        "nltk.download('averaged_perceptron_tagger')\n",
        "nltk.download('words')"
      ],
      "metadata": {
        "colab": {
          "base_uri": "https://localhost:8080/"
        },
        "id": "K2U2mjVMuQxm",
        "outputId": "39379aa6-892b-4298-fee9-55172e06cd8b"
      },
      "execution_count": 12,
      "outputs": [
        {
          "output_type": "stream",
          "name": "stderr",
          "text": [
            "[nltk_data] Downloading package punkt to /root/nltk_data...\n",
            "[nltk_data]   Package punkt is already up-to-date!\n",
            "[nltk_data] Downloading package averaged_perceptron_tagger to\n",
            "[nltk_data]     /root/nltk_data...\n",
            "[nltk_data]   Package averaged_perceptron_tagger is already up-to-\n",
            "[nltk_data]       date!\n",
            "[nltk_data] Downloading package words to /root/nltk_data...\n",
            "[nltk_data]   Package words is already up-to-date!\n"
          ]
        },
        {
          "output_type": "execute_result",
          "data": {
            "text/plain": [
              "True"
            ]
          },
          "metadata": {},
          "execution_count": 12
        }
      ]
    },
    {
      "cell_type": "code",
      "source": [
        "def analyze_text(text):\n",
        "    # Tokenize the text\n",
        "    tokens = word_tokenize(text)\n",
        "\n",
        "    # Generate POS tags\n",
        "    tagged_tokens = pos_tag(tokens)\n",
        "\n",
        "    # Extract nouns\n",
        "    nouns = [word for word, tag in tagged_tokens if tag in ['NN', 'NNS', 'NNP', 'NNPS']]\n",
        "\n",
        "    # Extract numbers\n",
        "    numbers = [word for word in tokens if re.match(r'\\d+', word)]\n",
        "\n",
        "    # Count POS tags\n",
        "    pos_tag_count = {}\n",
        "    for word, tag in tagged_tokens:\n",
        "        if tag in pos_tag_count:\n",
        "            pos_tag_count[tag] += 1\n",
        "        else:\n",
        "            pos_tag_count[tag] = 1\n",
        "\n",
        "    return tagged_tokens, nouns, numbers, pos_tag_count"
      ],
      "metadata": {
        "id": "Pne876ouuT3n"
      },
      "execution_count": 13,
      "outputs": []
    },
    {
      "cell_type": "code",
      "source": [
        "!pip install requests beautifulsoup4\n"
      ],
      "metadata": {
        "colab": {
          "base_uri": "https://localhost:8080/"
        },
        "id": "O85LOjRUwnrv",
        "outputId": "2f50921f-9260-4eb4-d000-24da5ba14d5d"
      },
      "execution_count": 14,
      "outputs": [
        {
          "output_type": "stream",
          "name": "stdout",
          "text": [
            "Requirement already satisfied: requests in /usr/local/lib/python3.10/dist-packages (2.32.3)\n",
            "Requirement already satisfied: beautifulsoup4 in /usr/local/lib/python3.10/dist-packages (4.12.3)\n",
            "Requirement already satisfied: charset-normalizer<4,>=2 in /usr/local/lib/python3.10/dist-packages (from requests) (3.3.2)\n",
            "Requirement already satisfied: idna<4,>=2.5 in /usr/local/lib/python3.10/dist-packages (from requests) (3.7)\n",
            "Requirement already satisfied: urllib3<3,>=1.21.1 in /usr/local/lib/python3.10/dist-packages (from requests) (2.0.7)\n",
            "Requirement already satisfied: certifi>=2017.4.17 in /usr/local/lib/python3.10/dist-packages (from requests) (2024.7.4)\n",
            "Requirement already satisfied: soupsieve>1.2 in /usr/local/lib/python3.10/dist-packages (from beautifulsoup4) (2.6)\n"
          ]
        }
      ]
    },
    {
      "cell_type": "code",
      "source": [
        "import requests\n",
        "from bs4 import BeautifulSoup\n",
        "\n",
        "def extract_text_from_url(url):\n",
        "    # Send a GET request to the webpage\n",
        "    response = requests.get(url)\n",
        "\n",
        "    # Check if the request was successful\n",
        "    if response.status_code == 200:\n",
        "        # Parse the HTML content of the page\n",
        "        soup = BeautifulSoup(response.content, 'html.parser')\n",
        "\n",
        "        # Find all paragraphs (common way to get article text)\n",
        "        paragraphs = soup.find_all('p')\n",
        "\n",
        "        # Join the text of all paragraphs\n",
        "        text = ' '.join([para.get_text() for para in paragraphs])\n",
        "\n",
        "        return text\n",
        "    else:\n",
        "        return f\"Failed to retrieve content. Status code: {response.status_code}\"\n",
        "\n",
        "# URL of the webpage\n",
        "url = 'https://www.jesuits.global/2024/08/19/the-dialogue-between-faith-and-science-in-the-spirit-of-laudato-si/'\n",
        "\n",
        "# Extract text from the URL\n",
        "text = extract_text_from_url(url)\n",
        "\n",
        "# Print the extracted text (or handle it as needed)\n",
        "print(text)\n"
      ],
      "metadata": {
        "colab": {
          "base_uri": "https://localhost:8080/"
        },
        "id": "_KDn1K4rwk6Q",
        "outputId": "768d8f69-db4f-46f5-bf7e-b35fb5b758dc"
      },
      "execution_count": 15,
      "outputs": [
        {
          "output_type": "stream",
          "name": "stdout",
          "text": [
            "By József Benedek; Gábor Nevelős,\n",
            "SJ | Hungarian Province\n",
            "[From “Jesuits 2024 - The Society of Jesus in the world”] The Faludi Ferenc Jesuit Academy launched in\n",
            "2022 a new dialogue between faith and science through a series of eight\n",
            "“mirror” conferences held between January and June. The novelty of this\n",
            "dialogue is that it brought to the same table representatives of religious\n",
            "institutions and men and women with a scientific background to debate on\n",
            "selected topics relevant both for the protection of creation and sustainable\n",
            "development. The following topics were selected for social reflection and\n",
            "debate: partnership and dialogue, green economy, sustainable lifestyle, climate\n",
            "change, poverty, sustainable communities, environmental change, social justice.\n",
            "The original approach of these series of mirror conferences, entitled “Forum\n",
            "for an Integral Ecology,” was embedded in the format of all the conferences, so\n",
            "that each selected topic was addressed by two specialists, one presenting the\n",
            "religious angle and the other the scientific point of view. Interactive debates\n",
            "open to the public, people attending in situ as well as those participating on\n",
            "line, followed the keynote presentations. Through this dynamic, we tried to\n",
            "generate a social reflection on the created world and sustainable development. \n",
            "The result of this first round of debates was\n",
            "the book entitled Integral Ecology.\n",
            "Dialogue between faith and science in the spirit of Laudato si’, published\n",
            "by the Jesuit Printing House in Budapest. It includes 16 reflections on the\n",
            "eight major topics selected for the forum. Each chapter of the publication\n",
            "offers many ways of finding authentic individual and collective answers to the\n",
            "multiple socio-economic and ecological crises, in the specific cultural and\n",
            "territorial context of Hungary. Among the results of\n",
            "this dialogue, we outline the following: The need to supplement\n",
            "the three classical dimensions of sustainable development (the social,\n",
            "economic, and environmental dimensions) with a spiritual dimension, adding\n",
            "specific Christian values to each sustainable development goal, as defined in\n",
            "the 2030 Agenda of the United Nations. Sustainable Development Goals without\n",
            "clearly assumed or agreed upon values cannot mobilize individuals or lead to\n",
            "collective actions. This “supplement” will help provide clearly defined\n",
            "orientation for institutions. Faith provides, in these circumstances, an\n",
            "immanent motivation for the authentic enforcement of the protection of creation\n",
            "by giving us an internal moral guidance. This spiritual dimension of\n",
            "sustainability may lead to the ecological conversion stressed in the papal\n",
            "encyclical Laudato si’. Ignatian spirituality\n",
            "could play a special role in giving shape to the spiritual dimension of\n",
            "sustainability, specifically through the Spiritual\n",
            "Exercises. The Ignatian method and orientations may help to distinguish\n",
            "between ecological sins and ecological virtues. The strengthening of the\n",
            "relationship between God, humanity, and nature may help in a meaningful\n",
            "ecological conversion process. Our institutions, both\n",
            "ecclesiastical and secular, must adopt action plans and good practices in their\n",
            "everyday life for the spreading of behaviour oriented towards a sustainable\n",
            "economy (mobility, green consumption and investment policies, energy efficiency\n",
            "of buildings, carbon foot monitoring, etc.). \n",
            "Local communities, parishes for instance, must\n",
            "be strengthened and sustained in the objective of finding their specific\n",
            "collective and contextualized answers to the multiple challenges generated by\n",
            "the ecological crisis. There is a real need\n",
            "for the rethinking and replanning of the concept of economic growth towards a\n",
            "human centred and integral development that includes not only material elements\n",
            "but the spiritual dimension as well. We recognize that\n",
            "radical changes and transformations are unavoidable. At the same time, in many\n",
            "places and contexts, especially in marginal and peripheral areas, the only\n",
            "solution might be resilience and adaptation to the changed environments. \n",
            "We hope that our shared dialogue between\n",
            "religion and science on the protection of creation and sustainable development\n",
            "may be a reference in the future for the expanding contents of the education\n",
            "curricula both in schools and in higher education institutions. Our work could\n",
            "then influence the formation of a positive attitude and generate motivation for\n",
            "local responses to our complex crises. By doing this, we hope to be in line and\n",
            "in the spirit of the encyclical Laudato\n",
            "si’, and we conclude with one of the final chords of the papal document:\n",
            "“Let us sing as we go. May our struggles and our concern for this planet never\n",
            "take away the joy of our hope” (LS 244). Farming connects people to God while also forming them environmentally. This is the foundation of the Jesuit run Kursus Pertanian Taman Tani Agricultural Center, in Central Java, Indonesia. An interview with a Jesuit who put science in the hands of the poor. Accompanying youth through eco-anxiety: a part of the work of a Jesuit Brother, professor at the School of Environmental Sustainability, in Chicago (USA). On 9 August, the International Day of the World’s Indigenous Peoples, it is imperative to shed some light on the plight and resilience of Indigenous Peoples, particularly those living in the Amazon and Congolese rainforests. In Southern Africa Province, young people are responding to the call to care for creation, advocating for climate justice and amplifying the voices of those most impacted by climate change. About an international meeting with the dynamics of a retreat: to listen, reflect, experience, and move from a destructive relationship with the Earth, to one capable of profound respect. The Society of Jesus was founded in 1540 by Saint Ignatius Loyola and his companions. The mission of the Jesuits is a mission of justice and reconciliation, working so that women and men can be reconciled with God, with themselves, with each other and with God’s creation.\n"
          ]
        }
      ]
    },
    {
      "cell_type": "code",
      "source": [
        "# Analyze the text\n",
        "tagged_tokens, nouns, numbers, pos_tag_count = analyze_text(text)"
      ],
      "metadata": {
        "id": "OtxBdke9u1HY"
      },
      "execution_count": 16,
      "outputs": []
    },
    {
      "cell_type": "code",
      "source": [
        "# Print results\n",
        "print(\"POS Tagged Tokens:\")\n",
        "print(tagged_tokens)\n",
        "print(\"\\nNouns:\")\n",
        "print(nouns)\n",
        "print(\"\\nNumbers:\")\n",
        "print(numbers)\n",
        "print(\"\\nPOS Tag Count:\")\n",
        "print(pos_tag_count)"
      ],
      "metadata": {
        "colab": {
          "base_uri": "https://localhost:8080/"
        },
        "id": "RNIYM8GKu4sg",
        "outputId": "b93da565-d170-41b5-934d-dd44f0180d24"
      },
      "execution_count": 17,
      "outputs": [
        {
          "output_type": "stream",
          "name": "stdout",
          "text": [
            "POS Tagged Tokens:\n",
            "[('By', 'IN'), ('József', 'NNP'), ('Benedek', 'NNP'), (';', ':'), ('Gábor', 'NNP'), ('Nevelős', 'NNP'), (',', ','), ('SJ', 'NNP'), ('|', 'NNP'), ('Hungarian', 'NNP'), ('Province', 'NNP'), ('[', 'NN'), ('From', 'NNP'), ('“', 'NNP'), ('Jesuits', 'NNP'), ('2024', 'CD'), ('-', ':'), ('The', 'DT'), ('Society', 'NNP'), ('of', 'IN'), ('Jesus', 'NNP'), ('in', 'IN'), ('the', 'DT'), ('world', 'NN'), ('”', 'NN'), (']', 'VBP'), ('The', 'DT'), ('Faludi', 'NNP'), ('Ferenc', 'NNP'), ('Jesuit', 'NNP'), ('Academy', 'NNP'), ('launched', 'VBN'), ('in', 'IN'), ('2022', 'CD'), ('a', 'DT'), ('new', 'JJ'), ('dialogue', 'NN'), ('between', 'IN'), ('faith', 'NN'), ('and', 'CC'), ('science', 'NN'), ('through', 'IN'), ('a', 'DT'), ('series', 'NN'), ('of', 'IN'), ('eight', 'CD'), ('“', 'NNS'), ('mirror', 'NN'), ('”', 'JJ'), ('conferences', 'NNS'), ('held', 'VBD'), ('between', 'IN'), ('January', 'NNP'), ('and', 'CC'), ('June', 'NNP'), ('.', '.'), ('The', 'DT'), ('novelty', 'NN'), ('of', 'IN'), ('this', 'DT'), ('dialogue', 'NN'), ('is', 'VBZ'), ('that', 'IN'), ('it', 'PRP'), ('brought', 'VBD'), ('to', 'TO'), ('the', 'DT'), ('same', 'JJ'), ('table', 'JJ'), ('representatives', 'NNS'), ('of', 'IN'), ('religious', 'JJ'), ('institutions', 'NNS'), ('and', 'CC'), ('men', 'NNS'), ('and', 'CC'), ('women', 'NNS'), ('with', 'IN'), ('a', 'DT'), ('scientific', 'JJ'), ('background', 'NN'), ('to', 'TO'), ('debate', 'VB'), ('on', 'IN'), ('selected', 'VBN'), ('topics', 'NNS'), ('relevant', 'JJ'), ('both', 'DT'), ('for', 'IN'), ('the', 'DT'), ('protection', 'NN'), ('of', 'IN'), ('creation', 'NN'), ('and', 'CC'), ('sustainable', 'JJ'), ('development', 'NN'), ('.', '.'), ('The', 'DT'), ('following', 'JJ'), ('topics', 'NNS'), ('were', 'VBD'), ('selected', 'VBN'), ('for', 'IN'), ('social', 'JJ'), ('reflection', 'NN'), ('and', 'CC'), ('debate', 'NN'), (':', ':'), ('partnership', 'NN'), ('and', 'CC'), ('dialogue', 'NN'), (',', ','), ('green', 'JJ'), ('economy', 'NN'), (',', ','), ('sustainable', 'JJ'), ('lifestyle', 'NN'), (',', ','), ('climate', 'NN'), ('change', 'NN'), (',', ','), ('poverty', 'NN'), (',', ','), ('sustainable', 'JJ'), ('communities', 'NNS'), (',', ','), ('environmental', 'JJ'), ('change', 'NN'), (',', ','), ('social', 'JJ'), ('justice', 'NN'), ('.', '.'), ('The', 'DT'), ('original', 'JJ'), ('approach', 'NN'), ('of', 'IN'), ('these', 'DT'), ('series', 'NN'), ('of', 'IN'), ('mirror', 'NN'), ('conferences', 'NNS'), (',', ','), ('entitled', 'VBD'), ('“', 'JJ'), ('Forum', 'NNP'), ('for', 'IN'), ('an', 'DT'), ('Integral', 'NNP'), ('Ecology', 'NNP'), (',', ','), ('”', 'NNP'), ('was', 'VBD'), ('embedded', 'VBN'), ('in', 'IN'), ('the', 'DT'), ('format', 'NN'), ('of', 'IN'), ('all', 'PDT'), ('the', 'DT'), ('conferences', 'NNS'), (',', ','), ('so', 'IN'), ('that', 'IN'), ('each', 'DT'), ('selected', 'VBN'), ('topic', 'NN'), ('was', 'VBD'), ('addressed', 'VBN'), ('by', 'IN'), ('two', 'CD'), ('specialists', 'NNS'), (',', ','), ('one', 'CD'), ('presenting', 'VBG'), ('the', 'DT'), ('religious', 'JJ'), ('angle', 'NN'), ('and', 'CC'), ('the', 'DT'), ('other', 'JJ'), ('the', 'DT'), ('scientific', 'JJ'), ('point', 'NN'), ('of', 'IN'), ('view', 'NN'), ('.', '.'), ('Interactive', 'JJ'), ('debates', 'NNS'), ('open', 'VBP'), ('to', 'TO'), ('the', 'DT'), ('public', 'NN'), (',', ','), ('people', 'NNS'), ('attending', 'VBG'), ('in', 'IN'), ('situ', 'NN'), ('as', 'RB'), ('well', 'RB'), ('as', 'IN'), ('those', 'DT'), ('participating', 'VBG'), ('on', 'IN'), ('line', 'NN'), (',', ','), ('followed', 'VBD'), ('the', 'DT'), ('keynote', 'NN'), ('presentations', 'NNS'), ('.', '.'), ('Through', 'IN'), ('this', 'DT'), ('dynamic', 'JJ'), (',', ','), ('we', 'PRP'), ('tried', 'VBD'), ('to', 'TO'), ('generate', 'VB'), ('a', 'DT'), ('social', 'JJ'), ('reflection', 'NN'), ('on', 'IN'), ('the', 'DT'), ('created', 'VBN'), ('world', 'NN'), ('and', 'CC'), ('sustainable', 'JJ'), ('development', 'NN'), ('.', '.'), ('The', 'DT'), ('result', 'NN'), ('of', 'IN'), ('this', 'DT'), ('first', 'JJ'), ('round', 'NN'), ('of', 'IN'), ('debates', 'NNS'), ('was', 'VBD'), ('the', 'DT'), ('book', 'NN'), ('entitled', 'VBD'), ('Integral', 'NNP'), ('Ecology', 'NNP'), ('.', '.'), ('Dialogue', 'NNP'), ('between', 'IN'), ('faith', 'NN'), ('and', 'CC'), ('science', 'NN'), ('in', 'IN'), ('the', 'DT'), ('spirit', 'NN'), ('of', 'IN'), ('Laudato', 'NNP'), ('si', 'NN'), ('’', 'NNP'), (',', ','), ('published', 'VBN'), ('by', 'IN'), ('the', 'DT'), ('Jesuit', 'NNP'), ('Printing', 'NNP'), ('House', 'NNP'), ('in', 'IN'), ('Budapest', 'NNP'), ('.', '.'), ('It', 'PRP'), ('includes', 'VBZ'), ('16', 'CD'), ('reflections', 'NNS'), ('on', 'IN'), ('the', 'DT'), ('eight', 'CD'), ('major', 'JJ'), ('topics', 'NNS'), ('selected', 'VBN'), ('for', 'IN'), ('the', 'DT'), ('forum', 'NN'), ('.', '.'), ('Each', 'DT'), ('chapter', 'NN'), ('of', 'IN'), ('the', 'DT'), ('publication', 'NN'), ('offers', 'VBZ'), ('many', 'JJ'), ('ways', 'NNS'), ('of', 'IN'), ('finding', 'VBG'), ('authentic', 'JJ'), ('individual', 'NN'), ('and', 'CC'), ('collective', 'JJ'), ('answers', 'NNS'), ('to', 'TO'), ('the', 'DT'), ('multiple', 'JJ'), ('socio-economic', 'JJ'), ('and', 'CC'), ('ecological', 'JJ'), ('crises', 'NNS'), (',', ','), ('in', 'IN'), ('the', 'DT'), ('specific', 'JJ'), ('cultural', 'JJ'), ('and', 'CC'), ('territorial', 'JJ'), ('context', 'NN'), ('of', 'IN'), ('Hungary', 'NNP'), ('.', '.'), ('Among', 'IN'), ('the', 'DT'), ('results', 'NNS'), ('of', 'IN'), ('this', 'DT'), ('dialogue', 'NN'), (',', ','), ('we', 'PRP'), ('outline', 'VBP'), ('the', 'DT'), ('following', 'NN'), (':', ':'), ('The', 'DT'), ('need', 'NN'), ('to', 'TO'), ('supplement', 'VB'), ('the', 'DT'), ('three', 'CD'), ('classical', 'JJ'), ('dimensions', 'NNS'), ('of', 'IN'), ('sustainable', 'JJ'), ('development', 'NN'), ('(', '('), ('the', 'DT'), ('social', 'JJ'), (',', ','), ('economic', 'JJ'), (',', ','), ('and', 'CC'), ('environmental', 'JJ'), ('dimensions', 'NNS'), (')', ')'), ('with', 'IN'), ('a', 'DT'), ('spiritual', 'JJ'), ('dimension', 'NN'), (',', ','), ('adding', 'VBG'), ('specific', 'JJ'), ('Christian', 'JJ'), ('values', 'NNS'), ('to', 'TO'), ('each', 'DT'), ('sustainable', 'JJ'), ('development', 'NN'), ('goal', 'NN'), (',', ','), ('as', 'IN'), ('defined', 'VBN'), ('in', 'IN'), ('the', 'DT'), ('2030', 'CD'), ('Agenda', 'NNP'), ('of', 'IN'), ('the', 'DT'), ('United', 'NNP'), ('Nations', 'NNPS'), ('.', '.'), ('Sustainable', 'JJ'), ('Development', 'NNP'), ('Goals', 'NNP'), ('without', 'IN'), ('clearly', 'RB'), ('assumed', 'VBN'), ('or', 'CC'), ('agreed', 'VBN'), ('upon', 'IN'), ('values', 'NNS'), ('can', 'MD'), ('not', 'RB'), ('mobilize', 'VB'), ('individuals', 'NNS'), ('or', 'CC'), ('lead', 'NN'), ('to', 'TO'), ('collective', 'JJ'), ('actions', 'NNS'), ('.', '.'), ('This', 'DT'), ('“', 'JJ'), ('supplement', 'NN'), ('”', 'NN'), ('will', 'MD'), ('help', 'VB'), ('provide', 'VB'), ('clearly', 'RB'), ('defined', 'JJ'), ('orientation', 'NN'), ('for', 'IN'), ('institutions', 'NNS'), ('.', '.'), ('Faith', 'NNP'), ('provides', 'VBZ'), (',', ','), ('in', 'IN'), ('these', 'DT'), ('circumstances', 'NNS'), (',', ','), ('an', 'DT'), ('immanent', 'JJ'), ('motivation', 'NN'), ('for', 'IN'), ('the', 'DT'), ('authentic', 'JJ'), ('enforcement', 'NN'), ('of', 'IN'), ('the', 'DT'), ('protection', 'NN'), ('of', 'IN'), ('creation', 'NN'), ('by', 'IN'), ('giving', 'VBG'), ('us', 'PRP'), ('an', 'DT'), ('internal', 'JJ'), ('moral', 'JJ'), ('guidance', 'NN'), ('.', '.'), ('This', 'DT'), ('spiritual', 'JJ'), ('dimension', 'NN'), ('of', 'IN'), ('sustainability', 'NN'), ('may', 'MD'), ('lead', 'VB'), ('to', 'TO'), ('the', 'DT'), ('ecological', 'JJ'), ('conversion', 'NN'), ('stressed', 'VBD'), ('in', 'IN'), ('the', 'DT'), ('papal', 'JJ'), ('encyclical', 'JJ'), ('Laudato', 'NNP'), ('si', 'NN'), ('’', 'NNP'), ('.', '.'), ('Ignatian', 'JJ'), ('spirituality', 'NN'), ('could', 'MD'), ('play', 'VB'), ('a', 'DT'), ('special', 'JJ'), ('role', 'NN'), ('in', 'IN'), ('giving', 'VBG'), ('shape', 'NN'), ('to', 'TO'), ('the', 'DT'), ('spiritual', 'JJ'), ('dimension', 'NN'), ('of', 'IN'), ('sustainability', 'NN'), (',', ','), ('specifically', 'RB'), ('through', 'IN'), ('the', 'DT'), ('Spiritual', 'NNP'), ('Exercises', 'NNP'), ('.', '.'), ('The', 'DT'), ('Ignatian', 'JJ'), ('method', 'NN'), ('and', 'CC'), ('orientations', 'NNS'), ('may', 'MD'), ('help', 'VB'), ('to', 'TO'), ('distinguish', 'VB'), ('between', 'IN'), ('ecological', 'JJ'), ('sins', 'NNS'), ('and', 'CC'), ('ecological', 'JJ'), ('virtues', 'NNS'), ('.', '.'), ('The', 'DT'), ('strengthening', 'NN'), ('of', 'IN'), ('the', 'DT'), ('relationship', 'NN'), ('between', 'IN'), ('God', 'NNP'), (',', ','), ('humanity', 'NN'), (',', ','), ('and', 'CC'), ('nature', 'NN'), ('may', 'MD'), ('help', 'VB'), ('in', 'IN'), ('a', 'DT'), ('meaningful', 'JJ'), ('ecological', 'JJ'), ('conversion', 'NN'), ('process', 'NN'), ('.', '.'), ('Our', 'PRP$'), ('institutions', 'NNS'), (',', ','), ('both', 'DT'), ('ecclesiastical', 'JJ'), ('and', 'CC'), ('secular', 'JJ'), (',', ','), ('must', 'MD'), ('adopt', 'VB'), ('action', 'NN'), ('plans', 'NNS'), ('and', 'CC'), ('good', 'JJ'), ('practices', 'NNS'), ('in', 'IN'), ('their', 'PRP$'), ('everyday', 'JJ'), ('life', 'NN'), ('for', 'IN'), ('the', 'DT'), ('spreading', 'NN'), ('of', 'IN'), ('behaviour', 'NN'), ('oriented', 'VBN'), ('towards', 'IN'), ('a', 'DT'), ('sustainable', 'JJ'), ('economy', 'NN'), ('(', '('), ('mobility', 'NN'), (',', ','), ('green', 'JJ'), ('consumption', 'NN'), ('and', 'CC'), ('investment', 'NN'), ('policies', 'NNS'), (',', ','), ('energy', 'NN'), ('efficiency', 'NN'), ('of', 'IN'), ('buildings', 'NNS'), (',', ','), ('carbon', 'NN'), ('foot', 'NN'), ('monitoring', 'NN'), (',', ','), ('etc.', 'NN'), (')', ')'), ('.', '.'), ('Local', 'JJ'), ('communities', 'NNS'), (',', ','), ('parishes', 'NNS'), ('for', 'IN'), ('instance', 'NN'), (',', ','), ('must', 'MD'), ('be', 'VB'), ('strengthened', 'VBN'), ('and', 'CC'), ('sustained', 'VBN'), ('in', 'IN'), ('the', 'DT'), ('objective', 'NN'), ('of', 'IN'), ('finding', 'VBG'), ('their', 'PRP$'), ('specific', 'JJ'), ('collective', 'NN'), ('and', 'CC'), ('contextualized', 'JJ'), ('answers', 'NNS'), ('to', 'TO'), ('the', 'DT'), ('multiple', 'JJ'), ('challenges', 'NNS'), ('generated', 'VBN'), ('by', 'IN'), ('the', 'DT'), ('ecological', 'JJ'), ('crisis', 'NN'), ('.', '.'), ('There', 'EX'), ('is', 'VBZ'), ('a', 'DT'), ('real', 'JJ'), ('need', 'NN'), ('for', 'IN'), ('the', 'DT'), ('rethinking', 'NN'), ('and', 'CC'), ('replanning', 'NN'), ('of', 'IN'), ('the', 'DT'), ('concept', 'NN'), ('of', 'IN'), ('economic', 'JJ'), ('growth', 'NN'), ('towards', 'IN'), ('a', 'DT'), ('human', 'JJ'), ('centred', 'NN'), ('and', 'CC'), ('integral', 'JJ'), ('development', 'NN'), ('that', 'WDT'), ('includes', 'VBZ'), ('not', 'RB'), ('only', 'RB'), ('material', 'JJ'), ('elements', 'NNS'), ('but', 'CC'), ('the', 'DT'), ('spiritual', 'JJ'), ('dimension', 'NN'), ('as', 'RB'), ('well', 'RB'), ('.', '.'), ('We', 'PRP'), ('recognize', 'VBP'), ('that', 'DT'), ('radical', 'JJ'), ('changes', 'NNS'), ('and', 'CC'), ('transformations', 'NNS'), ('are', 'VBP'), ('unavoidable', 'JJ'), ('.', '.'), ('At', 'IN'), ('the', 'DT'), ('same', 'JJ'), ('time', 'NN'), (',', ','), ('in', 'IN'), ('many', 'JJ'), ('places', 'NNS'), ('and', 'CC'), ('contexts', 'NN'), (',', ','), ('especially', 'RB'), ('in', 'IN'), ('marginal', 'JJ'), ('and', 'CC'), ('peripheral', 'JJ'), ('areas', 'NNS'), (',', ','), ('the', 'DT'), ('only', 'JJ'), ('solution', 'NN'), ('might', 'MD'), ('be', 'VB'), ('resilience', 'NN'), ('and', 'CC'), ('adaptation', 'NN'), ('to', 'TO'), ('the', 'DT'), ('changed', 'VBN'), ('environments', 'NNS'), ('.', '.'), ('We', 'PRP'), ('hope', 'VBP'), ('that', 'IN'), ('our', 'PRP$'), ('shared', 'VBN'), ('dialogue', 'NN'), ('between', 'IN'), ('religion', 'NN'), ('and', 'CC'), ('science', 'NN'), ('on', 'IN'), ('the', 'DT'), ('protection', 'NN'), ('of', 'IN'), ('creation', 'NN'), ('and', 'CC'), ('sustainable', 'JJ'), ('development', 'NN'), ('may', 'MD'), ('be', 'VB'), ('a', 'DT'), ('reference', 'NN'), ('in', 'IN'), ('the', 'DT'), ('future', 'NN'), ('for', 'IN'), ('the', 'DT'), ('expanding', 'VBG'), ('contents', 'NNS'), ('of', 'IN'), ('the', 'DT'), ('education', 'NN'), ('curricula', 'NN'), ('both', 'DT'), ('in', 'IN'), ('schools', 'NNS'), ('and', 'CC'), ('in', 'IN'), ('higher', 'JJR'), ('education', 'NN'), ('institutions', 'NNS'), ('.', '.'), ('Our', 'PRP$'), ('work', 'NN'), ('could', 'MD'), ('then', 'RB'), ('influence', 'VB'), ('the', 'DT'), ('formation', 'NN'), ('of', 'IN'), ('a', 'DT'), ('positive', 'JJ'), ('attitude', 'NN'), ('and', 'CC'), ('generate', 'NN'), ('motivation', 'NN'), ('for', 'IN'), ('local', 'JJ'), ('responses', 'NNS'), ('to', 'TO'), ('our', 'PRP$'), ('complex', 'JJ'), ('crises', 'NNS'), ('.', '.'), ('By', 'IN'), ('doing', 'VBG'), ('this', 'DT'), (',', ','), ('we', 'PRP'), ('hope', 'VBP'), ('to', 'TO'), ('be', 'VB'), ('in', 'IN'), ('line', 'NN'), ('and', 'CC'), ('in', 'IN'), ('the', 'DT'), ('spirit', 'NN'), ('of', 'IN'), ('the', 'DT'), ('encyclical', 'JJ'), ('Laudato', 'NNP'), ('si', 'NN'), ('’', 'NN'), (',', ','), ('and', 'CC'), ('we', 'PRP'), ('conclude', 'VBP'), ('with', 'IN'), ('one', 'CD'), ('of', 'IN'), ('the', 'DT'), ('final', 'JJ'), ('chords', 'NNS'), ('of', 'IN'), ('the', 'DT'), ('papal', 'JJ'), ('document', 'NN'), (':', ':'), ('“', 'JJ'), ('Let', 'VB'), ('us', 'PRP'), ('sing', 'VBG'), ('as', 'IN'), ('we', 'PRP'), ('go', 'VBP'), ('.', '.'), ('May', 'NNP'), ('our', 'PRP$'), ('struggles', 'NNS'), ('and', 'CC'), ('our', 'PRP$'), ('concern', 'NN'), ('for', 'IN'), ('this', 'DT'), ('planet', 'NN'), ('never', 'RB'), ('take', 'VB'), ('away', 'RP'), ('the', 'DT'), ('joy', 'NN'), ('of', 'IN'), ('our', 'PRP$'), ('hope', 'NN'), ('”', 'NNP'), ('(', '('), ('LS', 'NNP'), ('244', 'CD'), (')', ')'), ('.', '.'), ('Farming', 'VBG'), ('connects', 'NNS'), ('people', 'NNS'), ('to', 'TO'), ('God', 'NNP'), ('while', 'IN'), ('also', 'RB'), ('forming', 'VBG'), ('them', 'PRP'), ('environmentally', 'RB'), ('.', '.'), ('This', 'DT'), ('is', 'VBZ'), ('the', 'DT'), ('foundation', 'NN'), ('of', 'IN'), ('the', 'DT'), ('Jesuit', 'NNP'), ('run', 'VBP'), ('Kursus', 'NNP'), ('Pertanian', 'NNP'), ('Taman', 'NNP'), ('Tani', 'NNP'), ('Agricultural', 'NNP'), ('Center', 'NNP'), (',', ','), ('in', 'IN'), ('Central', 'NNP'), ('Java', 'NNP'), (',', ','), ('Indonesia', 'NNP'), ('.', '.'), ('An', 'DT'), ('interview', 'NN'), ('with', 'IN'), ('a', 'DT'), ('Jesuit', 'NN'), ('who', 'WP'), ('put', 'VBD'), ('science', 'NN'), ('in', 'IN'), ('the', 'DT'), ('hands', 'NNS'), ('of', 'IN'), ('the', 'DT'), ('poor', 'JJ'), ('.', '.'), ('Accompanying', 'VBG'), ('youth', 'RB'), ('through', 'IN'), ('eco-anxiety', 'NN'), (':', ':'), ('a', 'DT'), ('part', 'NN'), ('of', 'IN'), ('the', 'DT'), ('work', 'NN'), ('of', 'IN'), ('a', 'DT'), ('Jesuit', 'NNP'), ('Brother', 'NNP'), (',', ','), ('professor', 'NN'), ('at', 'IN'), ('the', 'DT'), ('School', 'NNP'), ('of', 'IN'), ('Environmental', 'NNP'), ('Sustainability', 'NNP'), (',', ','), ('in', 'IN'), ('Chicago', 'NNP'), ('(', '('), ('USA', 'NNP'), (')', ')'), ('.', '.'), ('On', 'IN'), ('9', 'CD'), ('August', 'NNP'), (',', ','), ('the', 'DT'), ('International', 'NNP'), ('Day', 'NNP'), ('of', 'IN'), ('the', 'DT'), ('World', 'NNP'), ('’', 'NNP'), ('s', 'VBP'), ('Indigenous', 'NNP'), ('Peoples', 'NNPS'), (',', ','), ('it', 'PRP'), ('is', 'VBZ'), ('imperative', 'JJ'), ('to', 'TO'), ('shed', 'VB'), ('some', 'DT'), ('light', 'NN'), ('on', 'IN'), ('the', 'DT'), ('plight', 'NN'), ('and', 'CC'), ('resilience', 'NN'), ('of', 'IN'), ('Indigenous', 'NNP'), ('Peoples', 'NNP'), (',', ','), ('particularly', 'RB'), ('those', 'DT'), ('living', 'VBG'), ('in', 'IN'), ('the', 'DT'), ('Amazon', 'NNP'), ('and', 'CC'), ('Congolese', 'JJ'), ('rainforests', 'NNS'), ('.', '.'), ('In', 'IN'), ('Southern', 'NNP'), ('Africa', 'NNP'), ('Province', 'NNP'), (',', ','), ('young', 'JJ'), ('people', 'NNS'), ('are', 'VBP'), ('responding', 'VBG'), ('to', 'TO'), ('the', 'DT'), ('call', 'NN'), ('to', 'TO'), ('care', 'VB'), ('for', 'IN'), ('creation', 'NN'), (',', ','), ('advocating', 'VBG'), ('for', 'IN'), ('climate', 'NN'), ('justice', 'NN'), ('and', 'CC'), ('amplifying', 'VBG'), ('the', 'DT'), ('voices', 'NNS'), ('of', 'IN'), ('those', 'DT'), ('most', 'RBS'), ('impacted', 'VBN'), ('by', 'IN'), ('climate', 'NN'), ('change', 'NN'), ('.', '.'), ('About', 'IN'), ('an', 'DT'), ('international', 'JJ'), ('meeting', 'NN'), ('with', 'IN'), ('the', 'DT'), ('dynamics', 'NNS'), ('of', 'IN'), ('a', 'DT'), ('retreat', 'NN'), (':', ':'), ('to', 'TO'), ('listen', 'VB'), (',', ','), ('reflect', 'VB'), (',', ','), ('experience', 'NN'), (',', ','), ('and', 'CC'), ('move', 'NN'), ('from', 'IN'), ('a', 'DT'), ('destructive', 'JJ'), ('relationship', 'NN'), ('with', 'IN'), ('the', 'DT'), ('Earth', 'NNP'), (',', ','), ('to', 'TO'), ('one', 'CD'), ('capable', 'NN'), ('of', 'IN'), ('profound', 'JJ'), ('respect', 'NN'), ('.', '.'), ('The', 'DT'), ('Society', 'NN'), ('of', 'IN'), ('Jesus', 'NNP'), ('was', 'VBD'), ('founded', 'VBN'), ('in', 'IN'), ('1540', 'CD'), ('by', 'IN'), ('Saint', 'NNP'), ('Ignatius', 'NNP'), ('Loyola', 'NNP'), ('and', 'CC'), ('his', 'PRP$'), ('companions', 'NNS'), ('.', '.'), ('The', 'DT'), ('mission', 'NN'), ('of', 'IN'), ('the', 'DT'), ('Jesuits', 'NNP'), ('is', 'VBZ'), ('a', 'DT'), ('mission', 'NN'), ('of', 'IN'), ('justice', 'NN'), ('and', 'CC'), ('reconciliation', 'NN'), (',', ','), ('working', 'VBG'), ('so', 'RB'), ('that', 'IN'), ('women', 'NNS'), ('and', 'CC'), ('men', 'NNS'), ('can', 'MD'), ('be', 'VB'), ('reconciled', 'VBN'), ('with', 'IN'), ('God', 'NNP'), (',', ','), ('with', 'IN'), ('themselves', 'PRP'), (',', ','), ('with', 'IN'), ('each', 'DT'), ('other', 'JJ'), ('and', 'CC'), ('with', 'IN'), ('God', 'NNP'), ('’', 'NNP'), ('s', 'JJ'), ('creation', 'NN'), ('.', '.')]\n",
            "\n",
            "Nouns:\n",
            "['József', 'Benedek', 'Gábor', 'Nevelős', 'SJ', '|', 'Hungarian', 'Province', '[', 'From', '“', 'Jesuits', 'Society', 'Jesus', 'world', '”', 'Faludi', 'Ferenc', 'Jesuit', 'Academy', 'dialogue', 'faith', 'science', 'series', '“', 'mirror', 'conferences', 'January', 'June', 'novelty', 'dialogue', 'representatives', 'institutions', 'men', 'women', 'background', 'topics', 'protection', 'creation', 'development', 'topics', 'reflection', 'debate', 'partnership', 'dialogue', 'economy', 'lifestyle', 'climate', 'change', 'poverty', 'communities', 'change', 'justice', 'approach', 'series', 'mirror', 'conferences', 'Forum', 'Integral', 'Ecology', '”', 'format', 'conferences', 'topic', 'specialists', 'angle', 'point', 'view', 'debates', 'public', 'people', 'situ', 'line', 'keynote', 'presentations', 'reflection', 'world', 'development', 'result', 'round', 'debates', 'book', 'Integral', 'Ecology', 'Dialogue', 'faith', 'science', 'spirit', 'Laudato', 'si', '’', 'Jesuit', 'Printing', 'House', 'Budapest', 'reflections', 'topics', 'forum', 'chapter', 'publication', 'ways', 'individual', 'answers', 'crises', 'context', 'Hungary', 'results', 'dialogue', 'following', 'need', 'dimensions', 'development', 'dimensions', 'dimension', 'values', 'development', 'goal', 'Agenda', 'United', 'Nations', 'Development', 'Goals', 'values', 'individuals', 'lead', 'actions', 'supplement', '”', 'orientation', 'institutions', 'Faith', 'circumstances', 'motivation', 'enforcement', 'protection', 'creation', 'guidance', 'dimension', 'sustainability', 'conversion', 'Laudato', 'si', '’', 'spirituality', 'role', 'shape', 'dimension', 'sustainability', 'Spiritual', 'Exercises', 'method', 'orientations', 'sins', 'virtues', 'strengthening', 'relationship', 'God', 'humanity', 'nature', 'conversion', 'process', 'institutions', 'action', 'plans', 'practices', 'life', 'spreading', 'behaviour', 'economy', 'mobility', 'consumption', 'investment', 'policies', 'energy', 'efficiency', 'buildings', 'carbon', 'foot', 'monitoring', 'etc.', 'communities', 'parishes', 'instance', 'objective', 'collective', 'answers', 'challenges', 'crisis', 'need', 'rethinking', 'replanning', 'concept', 'growth', 'centred', 'development', 'elements', 'dimension', 'changes', 'transformations', 'time', 'places', 'contexts', 'areas', 'solution', 'resilience', 'adaptation', 'environments', 'dialogue', 'religion', 'science', 'protection', 'creation', 'development', 'reference', 'future', 'contents', 'education', 'curricula', 'schools', 'education', 'institutions', 'work', 'formation', 'attitude', 'generate', 'motivation', 'responses', 'crises', 'line', 'spirit', 'Laudato', 'si', '’', 'chords', 'document', 'May', 'struggles', 'concern', 'planet', 'joy', 'hope', '”', 'LS', 'connects', 'people', 'God', 'foundation', 'Jesuit', 'Kursus', 'Pertanian', 'Taman', 'Tani', 'Agricultural', 'Center', 'Central', 'Java', 'Indonesia', 'interview', 'Jesuit', 'science', 'hands', 'eco-anxiety', 'part', 'work', 'Jesuit', 'Brother', 'professor', 'School', 'Environmental', 'Sustainability', 'Chicago', 'USA', 'August', 'International', 'Day', 'World', '’', 'Indigenous', 'Peoples', 'light', 'plight', 'resilience', 'Indigenous', 'Peoples', 'Amazon', 'rainforests', 'Southern', 'Africa', 'Province', 'people', 'call', 'creation', 'climate', 'justice', 'voices', 'climate', 'change', 'meeting', 'dynamics', 'retreat', 'experience', 'move', 'relationship', 'Earth', 'capable', 'respect', 'Society', 'Jesus', 'Saint', 'Ignatius', 'Loyola', 'companions', 'mission', 'Jesuits', 'mission', 'justice', 'reconciliation', 'women', 'men', 'God', 'God', '’', 'creation']\n",
            "\n",
            "Numbers:\n",
            "['2024', '2022', '16', '2030', '244', '9', '1540']\n",
            "\n",
            "POS Tag Count:\n",
            "{'IN': 142, 'NNP': 86, ':': 7, ',': 56, 'NN': 170, 'CD': 14, 'DT': 124, 'VBP': 12, 'VBN': 21, 'JJ': 105, 'CC': 46, 'NNS': 65, 'VBD': 13, '.': 36, 'VBZ': 9, 'PRP': 14, 'TO': 21, 'VB': 24, 'PDT': 1, 'VBG': 19, 'RB': 18, '(': 4, ')': 4, 'NNPS': 2, 'MD': 12, 'PRP$': 10, 'EX': 1, 'WDT': 1, 'JJR': 1, 'RP': 1, 'WP': 1, 'RBS': 1}\n"
          ]
        }
      ]
    }
  ]
}