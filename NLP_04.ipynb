{
  "nbformat": 4,
  "nbformat_minor": 0,
  "metadata": {
    "colab": {
      "provenance": []
    },
    "kernelspec": {
      "name": "python3",
      "display_name": "Python 3"
    },
    "language_info": {
      "name": "python"
    }
  },
  "cells": [
    {
      "cell_type": "markdown",
      "source": [
        "# Morphological Analysis and Word Generation for a Given Text"
      ],
      "metadata": {
        "id": "LL-d_dTzvia9"
      }
    },
    {
      "cell_type": "code",
      "execution_count": 4,
      "metadata": {
        "colab": {
          "base_uri": "https://localhost:8080/"
        },
        "id": "2sd6IkiWvWpQ",
        "outputId": "163d92c4-a2e4-48ef-fa97-32ad75c898df"
      },
      "outputs": [
        {
          "output_type": "stream",
          "name": "stdout",
          "text": [
            "Morpheme: play\n",
            "Generated Word: displayly\n"
          ]
        }
      ],
      "source": [
        "import random\n",
        "\n",
        "suffixes = ['ly', 'ing', 'ed', 'es']\n",
        "prefixes = ['un', 're', 'pre', 'dis']\n",
        "\n",
        "def generate_word(morpheme):\n",
        "    # Randomly choose a prefix and a suffix\n",
        "    prefix = random.choice(prefixes)\n",
        "    suffix = random.choice(suffixes)\n",
        "\n",
        "    new_word = prefix + morpheme + suffix\n",
        "\n",
        "    return new_word\n",
        "\n",
        "# Sample morpheme for analysis and word generation\n",
        "sample_morpheme = \"play\"\n",
        "\n",
        "# Generate a word using the given morpheme\n",
        "generated_word = generate_word(sample_morpheme)\n",
        "\n",
        "# Display the generated word\n",
        "print(f\"Morpheme: {sample_morpheme}\")\n",
        "print(f\"Generated Word: {generated_word}\")"
      ]
    }
  ]
}